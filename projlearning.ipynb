{
 "cells": [
  {
   "cell_type": "code",
   "execution_count": 1,
   "metadata": {},
   "outputs": [],
   "source": [
    "from training import *\n",
    "from evaluate import *\n",
    "from main import *\n",
    "from load_glove import *\n",
    "from data_helpers import *"
   ]
  },
  {
   "cell_type": "code",
   "execution_count": 2,
   "metadata": {},
   "outputs": [],
   "source": [
    "# Set some hyperparameters\n",
    "d = 50\n",
    "k = 24"
   ]
  },
  {
   "cell_type": "code",
   "execution_count": 3,
   "metadata": {},
   "outputs": [
    {
     "name": "stdout",
     "output_type": "stream",
     "text": [
      "Done. 400000  words loaded!\n",
      "Normalizing word embeddings\n",
      "\n",
      "Done!\n",
      "\n"
     ]
    }
   ],
   "source": [
    "# Load word embeddings from glove file\n",
    "glove_file = \"/home/johannes/thesis_code/ml_experimentation/glove.6B.50d.txt\"\n",
    "em = load_embeddings(glove_file)\n",
    "normalize_embeddings(em)"
   ]
  },
  {
   "cell_type": "code",
   "execution_count": 4,
   "metadata": {},
   "outputs": [
    {
     "name": "stdout",
     "output_type": "stream",
     "text": [
      "Generated  11779 positive training examples\n",
      "\n"
     ]
    }
   ],
   "source": [
    "# Create training triples\n",
    "data_file = \"/home/johannes/thesis_code/ml_experimentation/data/training/1A.english.training.data.txt\"\n",
    "gold_file = \"/home/johannes/thesis_code/ml_experimentation/data/training/1A.english.training.gold.txt\"\n",
    "train_data = read_train_examples(data_file, gold_file)\n"
   ]
  },
  {
   "cell_type": "code",
   "execution_count": 5,
   "metadata": {},
   "outputs": [
    {
     "name": "stdout",
     "output_type": "stream",
     "text": [
      "Created  19998  training examples with embeddings\n",
      "\n"
     ]
    }
   ],
   "source": [
    "# Replace words with their embeddings, if they exist, otherwise remove the word from the training data\n",
    "\n",
    "train_embeddings = replace_with_embedding(train_data,em,5)"
   ]
  },
  {
   "cell_type": "code",
   "execution_count": 8,
   "metadata": {},
   "outputs": [
    {
     "name": "stdout",
     "output_type": "stream",
     "text": [
      "Loss, iter:  -0.6274574535172344 0 \n",
      "\n",
      "Loss, iter:  -0.6167790323169126 1 \n",
      "\n",
      "Loss, iter:  -0.61674937485302 2 \n",
      "\n",
      "Loss, iter:  -0.616957074125113 3 \n",
      "\n",
      "Loss, iter:  -0.6169731302264221 4 \n",
      "\n",
      "Loss, iter:  -0.6167850046790271 5 \n",
      "\n",
      "Loss, iter:  -0.6168001786308187 6 \n",
      "\n",
      "Loss, iter:  -0.61676310620255 7 \n",
      "\n",
      "Loss, iter:  -0.6166838053935931 8 \n",
      "\n",
      "Loss, iter:  -0.6167520314034725 9 \n",
      "\n"
     ]
    }
   ],
   "source": [
    "transforms,b = train(em,train_embeddings,10)"
   ]
  },
  {
   "cell_type": "code",
   "execution_count": 6,
   "metadata": {},
   "outputs": [
    {
     "name": "stdout",
     "output_type": "stream",
     "text": [
      "Generated  218753  words for testing\n"
     ]
    }
   ],
   "source": [
    "test_data_file = \"/home/johannes/thesis_code/ml_experimentation/data/testing/1A.english.vocabulary.txt\"\n",
    "te = read_test_examples(test_data_file)\n"
   ]
  },
  {
   "cell_type": "code",
   "execution_count": 7,
   "metadata": {},
   "outputs": [
    {
     "name": "stdout",
     "output_type": "stream",
     "text": [
      "Generated  96986  test examples with embeddings\n"
     ]
    }
   ],
   "source": [
    "word_embedding_pairs = add_embeddings(te,em)"
   ]
  },
  {
   "cell_type": "code",
   "execution_count": 9,
   "metadata": {},
   "outputs": [],
   "source": [
    "words_only = [p[0] for p in word_embedding_pairs]"
   ]
  },
  {
   "cell_type": "code",
   "execution_count": 31,
   "metadata": {},
   "outputs": [
    {
     "data": {
      "text/plain": [
       "[(0.5675319537805054, '777'),\n",
       " (0.567989624736771, 'royce'),\n",
       " (0.570009574490131, 'aero'),\n",
       " (0.5717245316356698, 'defrosting'),\n",
       " (0.5725425594826186, 'scania'),\n",
       " (0.5763768642239487, 'puma'),\n",
       " (0.5778354240035072, 'carmaker'),\n",
       " (0.5823683915967628, 'lexus'),\n",
       " (0.5893482646719896, 'airbus'),\n",
       " (0.5929108036209653, 's80')]"
      ]
     },
     "execution_count": 31,
     "metadata": {},
     "output_type": "execute_result"
    }
   ],
   "source": [
    "extract(em[\"volvo\"],words_only,em, transforms,b,10)"
   ]
  },
  {
   "cell_type": "code",
   "execution_count": 18,
   "metadata": {},
   "outputs": [
    {
     "name": "stdout",
     "output_type": "stream",
     "text": [
      "[-0.1724417  -0.17763324 -0.19298804 -0.1865466  -0.15938563 -0.18840531\n",
      " -0.19788706 -0.14953664 -0.19936329 -0.20430008 -0.18013775 -0.18774923\n",
      " -0.19103109 -0.24929785 -0.17971433 -0.20354046 -0.17903136 -0.2196361\n",
      " -0.19984488 -0.20428441 -0.13902814 -0.17839796 -0.20691591 -0.16553243]\n"
     ]
    }
   ],
   "source": [
    "print(b)"
   ]
  },
  {
   "cell_type": "code",
   "execution_count": 19,
   "metadata": {},
   "outputs": [
    {
     "name": "stdout",
     "output_type": "stream",
     "text": [
      "6666\n"
     ]
    }
   ],
   "source": [
    "print(sum([1 if not t else 0 for _,_,t in train_embeddings]))"
   ]
  },
  {
   "cell_type": "code",
   "execution_count": 16,
   "metadata": {},
   "outputs": [
    {
     "name": "stdout",
     "output_type": "stream",
     "text": [
      "24\n"
     ]
    }
   ],
   "source": [
    "print(len(transforms))"
   ]
  },
  {
   "cell_type": "code",
   "execution_count": null,
   "metadata": {},
   "outputs": [],
   "source": []
  }
 ],
 "metadata": {
  "kernelspec": {
   "display_name": "Python 3",
   "language": "python",
   "name": "python3"
  },
  "language_info": {
   "codemirror_mode": {
    "name": "ipython",
    "version": 3
   },
   "file_extension": ".py",
   "mimetype": "text/x-python",
   "name": "python",
   "nbconvert_exporter": "python",
   "pygments_lexer": "ipython3",
   "version": "3.5.2"
  }
 },
 "nbformat": 4,
 "nbformat_minor": 2
}
